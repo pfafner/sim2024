{
 "cells": [
  {
   "cell_type": "markdown",
   "id": "4028db46-3638-46bb-9877-a8ff2d3d7512",
   "metadata": {},
   "source": [
    "## <font size=4> *Modelación y Simulación*, 2024 </font>\n",
    "## <font size=3 color='gray'> Alan Reyes-Figueroa </font>"
   ]
  },
  {
   "cell_type": "markdown",
   "id": "be628aca-8164-414b-8182-50e951a81780",
   "metadata": {},
   "source": [
    "# Programación Lineal:  Ejemplo 1"
   ]
  },
  {
   "cell_type": "code",
   "execution_count": 1,
   "id": "dc44205a-f698-4691-b0e3-925a9bf1d107",
   "metadata": {},
   "outputs": [],
   "source": [
    "using JuMP\n",
    "using HiGHS\n",
    "using Ipopt\n",
    "using Optimization\n",
    "using Optim"
   ]
  },
  {
   "cell_type": "code",
   "execution_count": 2,
   "id": "99f298d9-16fe-4962-abcc-66cd63ba8470",
   "metadata": {},
   "outputs": [
    {
     "data": {
      "text/plain": [
       "A JuMP Model\n",
       "├ solver: none\n",
       "├ objective_sense: FEASIBILITY_SENSE\n",
       "├ num_variables: 0\n",
       "├ num_constraints: 0\n",
       "└ Names registered in the model: none"
      ]
     },
     "execution_count": 2,
     "metadata": {},
     "output_type": "execute_result"
    }
   ],
   "source": [
    "model = Model()"
   ]
  },
  {
   "cell_type": "code",
   "execution_count": 3,
   "id": "8a7746a0-af9e-4656-bb6c-9c675d013c71",
   "metadata": {},
   "outputs": [
    {
     "data": {
      "text/latex": [
       "$ x2 $"
      ],
      "text/plain": [
       "x2"
      ]
     },
     "execution_count": 3,
     "metadata": {},
     "output_type": "execute_result"
    }
   ],
   "source": [
    "@variable(model, x1 >= 0)\n",
    "@variable(model, x2 >= 0)"
   ]
  },
  {
   "cell_type": "code",
   "execution_count": 4,
   "id": "df9437ce-7264-42e9-bc52-db110bb2b930",
   "metadata": {},
   "outputs": [
    {
     "data": {
      "text/latex": [
       "$$ x2 \\leq 2 $$"
      ],
      "text/plain": [
       "x2 ≤ 2"
      ]
     },
     "execution_count": 4,
     "metadata": {},
     "output_type": "execute_result"
    }
   ],
   "source": [
    "@constraint(model, 6x1 + 4x2 <= 24)\n",
    "@constraint(model,  x1 + 2x2 <= 6)\n",
    "@constraint(model, -x1 +  x2 <= 1)\n",
    "@constraint(model, x2 <= 2)"
   ]
  },
  {
   "cell_type": "code",
   "execution_count": 5,
   "id": "171d5fd2-e9c3-4637-a311-d6e7c4660560",
   "metadata": {},
   "outputs": [
    {
     "data": {
      "text/latex": [
       "$ 5 x1 + 4 x2 $"
      ],
      "text/plain": [
       "5 x1 + 4 x2"
      ]
     },
     "execution_count": 5,
     "metadata": {},
     "output_type": "execute_result"
    }
   ],
   "source": [
    "@objective(model, Max, 5x1 + 4x2)"
   ]
  },
  {
   "cell_type": "code",
   "execution_count": 6,
   "id": "248ef2d2-6a13-4197-8da0-029113de52eb",
   "metadata": {},
   "outputs": [],
   "source": [
    "set_optimizer(model, HiGHS.Optimizer)"
   ]
  },
  {
   "cell_type": "code",
   "execution_count": 7,
   "id": "cd6aa6b2-00b8-4e8e-a562-e63ec99b4885",
   "metadata": {},
   "outputs": [
    {
     "data": {
      "text/plain": [
       "A JuMP Model\n",
       "├ solver: HiGHS\n",
       "├ objective_sense: MAX_SENSE\n",
       "│ └ objective_function_type: AffExpr\n",
       "├ num_variables: 2\n",
       "├ num_constraints: 6\n",
       "│ ├ AffExpr in MOI.LessThan{Float64}: 4\n",
       "│ └ VariableRef in MOI.GreaterThan{Float64}: 2\n",
       "└ Names registered in the model\n",
       "  └ :x1, :x2"
      ]
     },
     "execution_count": 7,
     "metadata": {},
     "output_type": "execute_result"
    }
   ],
   "source": [
    "model"
   ]
  },
  {
   "cell_type": "code",
   "execution_count": 8,
   "id": "fc5c2632-6eb6-4281-a49f-1b6e086d6d9c",
   "metadata": {},
   "outputs": [
    {
     "name": "stdout",
     "output_type": "stream",
     "text": [
      "Running HiGHS 1.7.2 (git hash: 5ce7a2753): Copyright (c) 2024 HiGHS under MIT licence terms\n",
      "Coefficient ranges:\n",
      "  Matrix [1e+00, 6e+00]\n",
      "  Cost   [4e+00, 5e+00]\n",
      "  Bound  [0e+00, 0e+00]\n",
      "  RHS    [1e+00, 2e+01]\n",
      "Presolving model\n",
      "3 rows, 2 cols, 6 nonzeros  0s\n",
      "3 rows, 2 cols, 6 nonzeros  0s\n",
      "Presolve : Reductions: rows 3(-1); columns 2(-0); elements 6(-1)\n",
      "Solving the presolved LP\n",
      "Using EKK dual simplex solver - serial\n",
      "  Iteration        Objective     Infeasibilities num(sum)\n",
      "          0    -2.4999913611e+00 Ph1: 2(2.5); Du: 1(2.49999) 0s\n",
      "          2    -2.1000000000e+01 Pr: 0(0) 0s\n",
      "Solving the original LP from the solution after postsolve\n",
      "Model   status      : Optimal\n",
      "Simplex   iterations: 2\n",
      "Objective value     :  2.1000000000e+01\n",
      "HiGHS run time      :          0.00\n"
     ]
    }
   ],
   "source": [
    "optimize!(model)"
   ]
  },
  {
   "cell_type": "code",
   "execution_count": 9,
   "id": "79bad246-e004-4fe0-aaf5-94afd336027f",
   "metadata": {},
   "outputs": [
    {
     "name": "stdout",
     "output_type": "stream",
     "text": [
      "x1 = 3.0\n",
      "x2 = 1.5\n",
      "\n",
      "z = 21.0"
     ]
    }
   ],
   "source": [
    "print(\"x1 = \", value.(x1), \"\\n\")\n",
    "print(\"x2 = \", value.(x2), \"\\n\\n\")\n",
    "\n",
    "print(\"z = \", objective_value(model))"
   ]
  },
  {
   "cell_type": "code",
   "execution_count": null,
   "id": "86a6b2f5-d380-423f-a0bb-652d992e57da",
   "metadata": {},
   "outputs": [],
   "source": []
  }
 ],
 "metadata": {
  "kernelspec": {
   "display_name": "Julia 1.10.5",
   "language": "julia",
   "name": "julia-1.10"
  },
  "language_info": {
   "file_extension": ".jl",
   "mimetype": "application/julia",
   "name": "julia",
   "version": "1.10.5"
  }
 },
 "nbformat": 4,
 "nbformat_minor": 5
}
